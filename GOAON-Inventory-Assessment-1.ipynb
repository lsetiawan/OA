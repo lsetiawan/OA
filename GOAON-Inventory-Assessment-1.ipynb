{
 "cells": [
  {
   "cell_type": "markdown",
   "metadata": {},
   "source": [
    "# GOA-ON Inventory Assessment\n",
    "Identifying gaps (empty attributes) and sources and distribution of those gaps.   \n",
    "Emilio Mayorga, 4/18/2016"
   ]
  },
  {
   "cell_type": "code",
   "execution_count": 1,
   "metadata": {
    "collapsed": true
   },
   "outputs": [],
   "source": [
    "from collections import OrderedDict\n",
    "import pandas as pd"
   ]
  },
  {
   "cell_type": "code",
   "execution_count": 2,
   "metadata": {
    "collapsed": false
   },
   "outputs": [],
   "source": [
    "# Use an OrderedDict to preserve column order\n",
    "columns_rename = OrderedDict([\n",
    "    ('#', 'id'),\n",
    "    ('Overlaps with', 'overlaps_with'),\n",
    "    ('Source_Doc', 'Source_Doc'),\n",
    "    ('Platform_type', 'Platform_type'),\n",
    "    ('Platform Name', 'platform_name'),\n",
    "    ('Type', 'Type'),\n",
    "    ('Organization_structured', 'Organization'),\n",
    "    ('Organization abbreviation', 'organization_abbreviation'),\n",
    "    ('Department', 'Department'),\n",
    "    ('City', 'City'),\n",
    "    ('Country', 'Country'),\n",
    "    ('Project', 'Project'),\n",
    "    ('Additional Organization(s)', 'additional_organizations'),\n",
    "    ('Agency_structured', 'agency'),\n",
    "    ('URL', 'url'),\n",
    "    ('Contact_name', 'Contact_name'),\n",
    "    ('Email', 'Email'),\n",
    "    ('Data link (structured)', 'data_link'),\n",
    "    ('Deploy Date.1', 'deploy_date'),\n",
    "    ('Frequency', 'Frequency'),\n",
    "    ('Duration', 'Duration'),\n",
    "    ('Sensors.1', 'Sensors'),\n",
    "    ('Parameters', 'Parameters'),\n",
    "    ('Parameter planed to be added', 'parameter_planned'),\n",
    "    ('Method', 'Method'),\n",
    "    ('Depth_range', 'Depth_range'),\n",
    "    ('Comments', 'Comments'),\n",
    "    ('Longitude', 'Longitude'),\n",
    "    ('Latitude', 'Latitude'),\n",
    "    ('Location.1', 'Location'),\n",
    "    ('Method Documentation.1', 'Method_Documentation')\n",
    "])"
   ]
  },
  {
   "cell_type": "code",
   "execution_count": 13,
   "metadata": {
    "collapsed": false
   },
   "outputs": [],
   "source": [
    "# !cd <hidden file path>"
   ]
  },
  {
   "cell_type": "code",
   "execution_count": 4,
   "metadata": {
    "collapsed": true
   },
   "outputs": [],
   "source": [
    "df_xls = pd.read_excel('./GOA-ON_structering.xls', 'original')"
   ]
  },
  {
   "cell_type": "code",
   "execution_count": 5,
   "metadata": {
    "collapsed": false
   },
   "outputs": [],
   "source": [
    "# Retain only pre-defined subset of columns, then rename them\n",
    "df_xls_cols = df_xls[columns_rename.keys()].copy()\n",
    "df = df_xls_cols.rename_axis(columns_rename, axis=1)"
   ]
  },
  {
   "cell_type": "code",
   "execution_count": 6,
   "metadata": {
    "collapsed": false
   },
   "outputs": [
    {
     "data": {
      "text/plain": [
       "513"
      ]
     },
     "execution_count": 6,
     "metadata": {},
     "output_type": "execute_result"
    }
   ],
   "source": [
    "# Recode NaN's (nulls) as the string 'NA'\n",
    "df = df.fillna({'Platform_type': 'NA', 'Type': 'NA'})\n",
    "len(df)"
   ]
  },
  {
   "cell_type": "markdown",
   "metadata": {},
   "source": [
    "Number of records in the inventory (after removing one bad record)"
   ]
  },
  {
   "cell_type": "markdown",
   "metadata": {},
   "source": [
    "### Distribution by Platform_type and \"Source_Doc\" (the origin of each record)"
   ]
  },
  {
   "cell_type": "markdown",
   "metadata": {},
   "source": [
    "Distribution of `Platform_type` codes. \"NA\" is the recoded null entries. Half of the records are not coded (\"NA\"/null)!"
   ]
  },
  {
   "cell_type": "code",
   "execution_count": 7,
   "metadata": {
    "collapsed": false
   },
   "outputs": [
    {
     "data": {
      "text/plain": [
       "NA        262\n",
       "STS       148\n",
       "M          67\n",
       "VOS        28\n",
       "FOTS        6\n",
       "OP          1\n",
       "M; STS      1\n",
       "Name: Platform_type, dtype: int64"
      ]
     },
     "execution_count": 7,
     "metadata": {},
     "output_type": "execute_result"
    }
   ],
   "source": [
    "df.Platform_type.value_counts()"
   ]
  },
  {
   "cell_type": "markdown",
   "metadata": {},
   "source": [
    "Uncoded records originate in all sources; though records from the original GOA-ON inventory may be coded more easily, because they originate in spreadsheets that are organized by essentially platform types."
   ]
  },
  {
   "cell_type": "code",
   "execution_count": 8,
   "metadata": {
    "collapsed": false
   },
   "outputs": [
    {
     "data": {
      "text/plain": [
       "Source_Doc               Platform_type\n",
       "Bjoern_Times_Series_OCB  M                  3\n",
       "                         NA               105\n",
       "                         STS              138\n",
       "FixedTimeSeries          FOTS               6\n",
       "                         NA                73\n",
       "                         OP                 1\n",
       "                         STS                9\n",
       "Mooring                  M                 64\n",
       "                         M; STS             1\n",
       "                         NA                46\n",
       "ShipbasedTime_Series     NA                38\n",
       "                         STS                1\n",
       "VOS                      VOS               28\n",
       "dtype: int64"
      ]
     },
     "execution_count": 8,
     "metadata": {},
     "output_type": "execute_result"
    }
   ],
   "source": [
    "df.groupby(['Source_Doc', 'Platform_type']).size()"
   ]
  },
  {
   "cell_type": "markdown",
   "metadata": {},
   "source": [
    "`Type` is the category used in the original GOA-ON inventory. Note that ~ 2/3 of the records have no Type entry (\"NA\"). Most of those (246) are from the \"Bjoern_Times_Series_OCB\" `Source_Doc`."
   ]
  },
  {
   "cell_type": "code",
   "execution_count": 9,
   "metadata": {
    "collapsed": false
   },
   "outputs": [
    {
     "data": {
      "text/plain": [
       "NA                                                331\n",
       "NOAA OA Coral Reef Monitoring Site                 20\n",
       "NOAA OA Mooring (Coastal)                          17\n",
       "Intertidal (surf-zone) station                     15\n",
       "ChloroGIN - ANTARES Station                        12\n",
       "NOAA OA Mooring (Open Ocean)                        9\n",
       "Inner-shelf mooring (15-20 meter depth)             8\n",
       "Open Ocean Mooring                                  8\n",
       "Ship-based Time Series                              6\n",
       "IOLR Hydrographic cruise station                    6\n",
       "SmartBuoy                                           5\n",
       "Fixed time series.                                  4\n",
       "Shelf Station                                       4\n",
       "NOAA OA Mooring (Coral Reef)                        4\n",
       "IOLR Coastal Beach Rock Monitoring                  4\n",
       "Mooring in tropical Atlantic Brazilian islands      3\n",
       "Seafloor, surface, and mid-water sampling.          3\n",
       "Coastal Observatory                                 2\n",
       "Float                                               2\n",
       "Offshore Mooring                                    2\n",
       "Name: Type, dtype: int64"
      ]
     },
     "execution_count": 9,
     "metadata": {},
     "output_type": "execute_result"
    }
   ],
   "source": [
    "df.Type.value_counts().head(20)"
   ]
  },
  {
   "cell_type": "markdown",
   "metadata": {},
   "source": [
    "### Distribution of records with no latitude & langitude"
   ]
  },
  {
   "cell_type": "code",
   "execution_count": 10,
   "metadata": {
    "collapsed": true
   },
   "outputs": [],
   "source": [
    "df_nolatlon = df[(df.Latitude.isnull()) & (df.Longitude.isnull())]"
   ]
  },
  {
   "cell_type": "code",
   "execution_count": 11,
   "metadata": {
    "collapsed": false
   },
   "outputs": [
    {
     "data": {
      "text/plain": [
       "96"
      ]
     },
     "execution_count": 11,
     "metadata": {},
     "output_type": "execute_result"
    }
   ],
   "source": [
    "len(df_nolatlon)"
   ]
  },
  {
   "cell_type": "markdown",
   "metadata": {},
   "source": [
    "28 of these records are from the \"Bjoern_Times_Series_OCB\". Nearly all the remaining ones, from the GOA-ON inventory, are from ship records for which latitude and longitude for a representative point can be obtained from the ship track."
   ]
  },
  {
   "cell_type": "code",
   "execution_count": 12,
   "metadata": {
    "collapsed": false
   },
   "outputs": [
    {
     "data": {
      "text/plain": [
       "Source_Doc               Platform_type\n",
       "Bjoern_Times_Series_OCB  NA               27\n",
       "                         STS               1\n",
       "FixedTimeSeries          STS               1\n",
       "ShipbasedTime_Series     NA               38\n",
       "                         STS               1\n",
       "VOS                      VOS              28\n",
       "dtype: int64"
      ]
     },
     "execution_count": 12,
     "metadata": {},
     "output_type": "execute_result"
    }
   ],
   "source": [
    "df_nolatlon.groupby(['Source_Doc', 'Platform_type']).size()"
   ]
  },
  {
   "cell_type": "code",
   "execution_count": null,
   "metadata": {
    "collapsed": true
   },
   "outputs": [],
   "source": []
  }
 ],
 "metadata": {
  "kernelspec": {
   "display_name": "Python 2",
   "language": "python",
   "name": "python2"
  },
  "language_info": {
   "codemirror_mode": {
    "name": "ipython",
    "version": 2
   },
   "file_extension": ".py",
   "mimetype": "text/x-python",
   "name": "python",
   "nbconvert_exporter": "python",
   "pygments_lexer": "ipython2",
   "version": "2.7.11"
  }
 },
 "nbformat": 4,
 "nbformat_minor": 0
}
